{
 "cells": [
  {
   "cell_type": "code",
   "execution_count": 12,
   "metadata": {},
   "outputs": [],
   "source": [
    "import numpy as np\n",
    "import pandas as pd\n",
    "import matplotlib.pyplot as plt\n",
    "import seaborn as sns\n",
    "%matplotlib inline"
   ]
  },
  {
   "cell_type": "code",
   "execution_count": 13,
   "metadata": {},
   "outputs": [
    {
     "data": {
      "text/plain": [
       "Index(['MemberID', 'ProviderID', 'Vendor', 'PCP', 'Year', 'Specialty',\n",
       "       'PlaceSvc', 'PayDelay', 'LengthOfStay', 'DSFS', 'PrimaryConditionGroup',\n",
       "       'CharlsonIndex', 'ProcedureGroup', 'SupLOS'],\n",
       "      dtype='object')"
      ]
     },
     "execution_count": 13,
     "metadata": {},
     "output_type": "execute_result"
    }
   ],
   "source": [
    "df = pd.read_csv('data/Claims.csv')\n",
    "df.columns"
   ]
  },
  {
   "cell_type": "code",
   "execution_count": 14,
   "metadata": {},
   "outputs": [
    {
     "data": {
      "text/html": [
       "<div>\n",
       "<style scoped>\n",
       "    .dataframe tbody tr th:only-of-type {\n",
       "        vertical-align: middle;\n",
       "    }\n",
       "\n",
       "    .dataframe tbody tr th {\n",
       "        vertical-align: top;\n",
       "    }\n",
       "\n",
       "    .dataframe thead th {\n",
       "        text-align: right;\n",
       "    }\n",
       "</style>\n",
       "<table border=\"1\" class=\"dataframe\">\n",
       "  <thead>\n",
       "    <tr style=\"text-align: right;\">\n",
       "      <th></th>\n",
       "      <th>MemberID</th>\n",
       "      <th>ProviderID</th>\n",
       "      <th>Vendor</th>\n",
       "      <th>PCP</th>\n",
       "      <th>Year</th>\n",
       "      <th>Specialty</th>\n",
       "      <th>PlaceSvc</th>\n",
       "      <th>PayDelay</th>\n",
       "      <th>LengthOfStay</th>\n",
       "      <th>DSFS</th>\n",
       "      <th>PrimaryConditionGroup</th>\n",
       "      <th>CharlsonIndex</th>\n",
       "      <th>ProcedureGroup</th>\n",
       "      <th>SupLOS</th>\n",
       "    </tr>\n",
       "  </thead>\n",
       "  <tbody>\n",
       "    <tr>\n",
       "      <th>0</th>\n",
       "      <td>42286978</td>\n",
       "      <td>8013252.0</td>\n",
       "      <td>172193.0</td>\n",
       "      <td>37796.0</td>\n",
       "      <td>Y1</td>\n",
       "      <td>Surgery</td>\n",
       "      <td>Office</td>\n",
       "      <td>28</td>\n",
       "      <td>NaN</td>\n",
       "      <td>8- 9 months</td>\n",
       "      <td>NEUMENT</td>\n",
       "      <td>0</td>\n",
       "      <td>MED</td>\n",
       "      <td>0</td>\n",
       "    </tr>\n",
       "    <tr>\n",
       "      <th>1</th>\n",
       "      <td>97903248</td>\n",
       "      <td>3316066.0</td>\n",
       "      <td>726296.0</td>\n",
       "      <td>5300.0</td>\n",
       "      <td>Y3</td>\n",
       "      <td>Internal</td>\n",
       "      <td>Office</td>\n",
       "      <td>50</td>\n",
       "      <td>NaN</td>\n",
       "      <td>7- 8 months</td>\n",
       "      <td>NEUMENT</td>\n",
       "      <td>1-2</td>\n",
       "      <td>EM</td>\n",
       "      <td>0</td>\n",
       "    </tr>\n",
       "    <tr>\n",
       "      <th>2</th>\n",
       "      <td>2759427</td>\n",
       "      <td>2997752.0</td>\n",
       "      <td>140343.0</td>\n",
       "      <td>91972.0</td>\n",
       "      <td>Y3</td>\n",
       "      <td>Internal</td>\n",
       "      <td>Office</td>\n",
       "      <td>14</td>\n",
       "      <td>NaN</td>\n",
       "      <td>0- 1 month</td>\n",
       "      <td>METAB3</td>\n",
       "      <td>0</td>\n",
       "      <td>EM</td>\n",
       "      <td>0</td>\n",
       "    </tr>\n",
       "    <tr>\n",
       "      <th>3</th>\n",
       "      <td>73570559</td>\n",
       "      <td>7053364.0</td>\n",
       "      <td>240043.0</td>\n",
       "      <td>70119.0</td>\n",
       "      <td>Y3</td>\n",
       "      <td>Laboratory</td>\n",
       "      <td>Independent Lab</td>\n",
       "      <td>24</td>\n",
       "      <td>NaN</td>\n",
       "      <td>5- 6 months</td>\n",
       "      <td>METAB3</td>\n",
       "      <td>1-2</td>\n",
       "      <td>SCS</td>\n",
       "      <td>0</td>\n",
       "    </tr>\n",
       "    <tr>\n",
       "      <th>4</th>\n",
       "      <td>11837054</td>\n",
       "      <td>7557061.0</td>\n",
       "      <td>496247.0</td>\n",
       "      <td>68968.0</td>\n",
       "      <td>Y2</td>\n",
       "      <td>Surgery</td>\n",
       "      <td>Outpatient Hospital</td>\n",
       "      <td>27</td>\n",
       "      <td>NaN</td>\n",
       "      <td>4- 5 months</td>\n",
       "      <td>FXDISLC</td>\n",
       "      <td>1-2</td>\n",
       "      <td>EM</td>\n",
       "      <td>0</td>\n",
       "    </tr>\n",
       "  </tbody>\n",
       "</table>\n",
       "</div>"
      ],
      "text/plain": [
       "   MemberID  ProviderID    Vendor      PCP Year   Specialty  \\\n",
       "0  42286978   8013252.0  172193.0  37796.0   Y1     Surgery   \n",
       "1  97903248   3316066.0  726296.0   5300.0   Y3    Internal   \n",
       "2   2759427   2997752.0  140343.0  91972.0   Y3    Internal   \n",
       "3  73570559   7053364.0  240043.0  70119.0   Y3  Laboratory   \n",
       "4  11837054   7557061.0  496247.0  68968.0   Y2     Surgery   \n",
       "\n",
       "              PlaceSvc PayDelay LengthOfStay         DSFS  \\\n",
       "0               Office       28          NaN  8- 9 months   \n",
       "1               Office       50          NaN  7- 8 months   \n",
       "2               Office       14          NaN   0- 1 month   \n",
       "3      Independent Lab       24          NaN  5- 6 months   \n",
       "4  Outpatient Hospital       27          NaN  4- 5 months   \n",
       "\n",
       "  PrimaryConditionGroup CharlsonIndex ProcedureGroup  SupLOS  \n",
       "0               NEUMENT             0            MED       0  \n",
       "1               NEUMENT           1-2             EM       0  \n",
       "2                METAB3             0             EM       0  \n",
       "3                METAB3           1-2            SCS       0  \n",
       "4               FXDISLC           1-2             EM       0  "
      ]
     },
     "execution_count": 14,
     "metadata": {},
     "output_type": "execute_result"
    }
   ],
   "source": [
    "df.head()"
   ]
  },
  {
   "cell_type": "code",
   "execution_count": 15,
   "metadata": {},
   "outputs": [
    {
     "data": {
      "text/plain": [
       "(2668990, 14)"
      ]
     },
     "execution_count": 15,
     "metadata": {},
     "output_type": "execute_result"
    }
   ],
   "source": [
    "df.shape"
   ]
  },
  {
   "cell_type": "code",
   "execution_count": 16,
   "metadata": {
    "scrolled": false
   },
   "outputs": [
    {
     "data": {
      "text/html": [
       "<div>\n",
       "<style scoped>\n",
       "    .dataframe tbody tr th:only-of-type {\n",
       "        vertical-align: middle;\n",
       "    }\n",
       "\n",
       "    .dataframe tbody tr th {\n",
       "        vertical-align: top;\n",
       "    }\n",
       "\n",
       "    .dataframe thead th {\n",
       "        text-align: right;\n",
       "    }\n",
       "</style>\n",
       "<table border=\"1\" class=\"dataframe\">\n",
       "  <thead>\n",
       "    <tr style=\"text-align: right;\">\n",
       "      <th></th>\n",
       "      <th>MemberID</th>\n",
       "      <th>ProviderID</th>\n",
       "      <th>Vendor</th>\n",
       "      <th>PCP</th>\n",
       "      <th>SupLOS</th>\n",
       "    </tr>\n",
       "  </thead>\n",
       "  <tbody>\n",
       "    <tr>\n",
       "      <th>count</th>\n",
       "      <td>2.668990e+06</td>\n",
       "      <td>2.652726e+06</td>\n",
       "      <td>2.644134e+06</td>\n",
       "      <td>2.661498e+06</td>\n",
       "      <td>2.668990e+06</td>\n",
       "    </tr>\n",
       "    <tr>\n",
       "      <th>mean</th>\n",
       "      <td>4.998824e+07</td>\n",
       "      <td>5.070900e+06</td>\n",
       "      <td>3.806974e+05</td>\n",
       "      <td>5.133819e+04</td>\n",
       "      <td>4.245801e-03</td>\n",
       "    </tr>\n",
       "    <tr>\n",
       "      <th>std</th>\n",
       "      <td>2.892240e+07</td>\n",
       "      <td>2.868035e+06</td>\n",
       "      <td>2.729317e+05</td>\n",
       "      <td>2.920591e+04</td>\n",
       "      <td>6.502135e-02</td>\n",
       "    </tr>\n",
       "    <tr>\n",
       "      <th>min</th>\n",
       "      <td>4.000000e+00</td>\n",
       "      <td>4.720000e+02</td>\n",
       "      <td>3.900000e+01</td>\n",
       "      <td>7.400000e+01</td>\n",
       "      <td>0.000000e+00</td>\n",
       "    </tr>\n",
       "    <tr>\n",
       "      <th>25%</th>\n",
       "      <td>2.480119e+07</td>\n",
       "      <td>2.467684e+06</td>\n",
       "      <td>1.526100e+05</td>\n",
       "      <td>2.746700e+04</td>\n",
       "      <td>0.000000e+00</td>\n",
       "    </tr>\n",
       "    <tr>\n",
       "      <th>50%</th>\n",
       "      <td>4.992606e+07</td>\n",
       "      <td>5.442161e+06</td>\n",
       "      <td>2.518090e+05</td>\n",
       "      <td>4.799000e+04</td>\n",
       "      <td>0.000000e+00</td>\n",
       "    </tr>\n",
       "    <tr>\n",
       "      <th>75%</th>\n",
       "      <td>7.532789e+07</td>\n",
       "      <td>7.053364e+06</td>\n",
       "      <td>5.885440e+05</td>\n",
       "      <td>7.587600e+04</td>\n",
       "      <td>0.000000e+00</td>\n",
       "    </tr>\n",
       "    <tr>\n",
       "      <th>max</th>\n",
       "      <td>9.999882e+07</td>\n",
       "      <td>9.999241e+06</td>\n",
       "      <td>9.998740e+05</td>\n",
       "      <td>9.990500e+04</td>\n",
       "      <td>1.000000e+00</td>\n",
       "    </tr>\n",
       "  </tbody>\n",
       "</table>\n",
       "</div>"
      ],
      "text/plain": [
       "           MemberID    ProviderID        Vendor           PCP        SupLOS\n",
       "count  2.668990e+06  2.652726e+06  2.644134e+06  2.661498e+06  2.668990e+06\n",
       "mean   4.998824e+07  5.070900e+06  3.806974e+05  5.133819e+04  4.245801e-03\n",
       "std    2.892240e+07  2.868035e+06  2.729317e+05  2.920591e+04  6.502135e-02\n",
       "min    4.000000e+00  4.720000e+02  3.900000e+01  7.400000e+01  0.000000e+00\n",
       "25%    2.480119e+07  2.467684e+06  1.526100e+05  2.746700e+04  0.000000e+00\n",
       "50%    4.992606e+07  5.442161e+06  2.518090e+05  4.799000e+04  0.000000e+00\n",
       "75%    7.532789e+07  7.053364e+06  5.885440e+05  7.587600e+04  0.000000e+00\n",
       "max    9.999882e+07  9.999241e+06  9.998740e+05  9.990500e+04  1.000000e+00"
      ]
     },
     "execution_count": 16,
     "metadata": {},
     "output_type": "execute_result"
    }
   ],
   "source": [
    "df.describe()"
   ]
  },
  {
   "cell_type": "code",
   "execution_count": 17,
   "metadata": {},
   "outputs": [
    {
     "data": {
      "text/plain": [
       "MemberID                   int64\n",
       "ProviderID               float64\n",
       "Vendor                   float64\n",
       "PCP                      float64\n",
       "Year                      object\n",
       "Specialty                 object\n",
       "PlaceSvc                  object\n",
       "PayDelay                  object\n",
       "LengthOfStay              object\n",
       "DSFS                      object\n",
       "PrimaryConditionGroup     object\n",
       "CharlsonIndex             object\n",
       "ProcedureGroup            object\n",
       "SupLOS                     int64\n",
       "dtype: object"
      ]
     },
     "execution_count": 17,
     "metadata": {},
     "output_type": "execute_result"
    }
   ],
   "source": [
    "df.dtypes"
   ]
  },
  {
   "cell_type": "code",
   "execution_count": 19,
   "metadata": {},
   "outputs": [],
   "source": [
    "def count_nulls(df):\n",
    "    null_counter = df.isnull().sum(axis=0)\n",
    "    null_counter = null_counter[null_counter > 0]\n",
    "    null_percent = df.isnull().sum(axis=0) / df.shape[0] * 100\n",
    "    null_percent = null_percent[null_percent > 0]\n",
    "    null_df = pd.concat([null_counter,null_percent],axis=1)\n",
    "    null_df.columns = ['count','percent']\n",
    "    display(null_df)"
   ]
  },
  {
   "cell_type": "code",
   "execution_count": 20,
   "metadata": {},
   "outputs": [
    {
     "data": {
      "text/html": [
       "<div>\n",
       "<style scoped>\n",
       "    .dataframe tbody tr th:only-of-type {\n",
       "        vertical-align: middle;\n",
       "    }\n",
       "\n",
       "    .dataframe tbody tr th {\n",
       "        vertical-align: top;\n",
       "    }\n",
       "\n",
       "    .dataframe thead th {\n",
       "        text-align: right;\n",
       "    }\n",
       "</style>\n",
       "<table border=\"1\" class=\"dataframe\">\n",
       "  <thead>\n",
       "    <tr style=\"text-align: right;\">\n",
       "      <th></th>\n",
       "      <th>count</th>\n",
       "      <th>percent</th>\n",
       "    </tr>\n",
       "  </thead>\n",
       "  <tbody>\n",
       "    <tr>\n",
       "      <th>ProviderID</th>\n",
       "      <td>16264</td>\n",
       "      <td>0.609369</td>\n",
       "    </tr>\n",
       "    <tr>\n",
       "      <th>Vendor</th>\n",
       "      <td>24856</td>\n",
       "      <td>0.931289</td>\n",
       "    </tr>\n",
       "    <tr>\n",
       "      <th>PCP</th>\n",
       "      <td>7492</td>\n",
       "      <td>0.280705</td>\n",
       "    </tr>\n",
       "    <tr>\n",
       "      <th>Specialty</th>\n",
       "      <td>8405</td>\n",
       "      <td>0.314913</td>\n",
       "    </tr>\n",
       "    <tr>\n",
       "      <th>PlaceSvc</th>\n",
       "      <td>7632</td>\n",
       "      <td>0.285951</td>\n",
       "    </tr>\n",
       "    <tr>\n",
       "      <th>LengthOfStay</th>\n",
       "      <td>2597392</td>\n",
       "      <td>97.317412</td>\n",
       "    </tr>\n",
       "    <tr>\n",
       "      <th>DSFS</th>\n",
       "      <td>52770</td>\n",
       "      <td>1.977152</td>\n",
       "    </tr>\n",
       "    <tr>\n",
       "      <th>PrimaryConditionGroup</th>\n",
       "      <td>11410</td>\n",
       "      <td>0.427503</td>\n",
       "    </tr>\n",
       "    <tr>\n",
       "      <th>ProcedureGroup</th>\n",
       "      <td>3675</td>\n",
       "      <td>0.137693</td>\n",
       "    </tr>\n",
       "  </tbody>\n",
       "</table>\n",
       "</div>"
      ],
      "text/plain": [
       "                         count    percent\n",
       "ProviderID               16264   0.609369\n",
       "Vendor                   24856   0.931289\n",
       "PCP                       7492   0.280705\n",
       "Specialty                 8405   0.314913\n",
       "PlaceSvc                  7632   0.285951\n",
       "LengthOfStay           2597392  97.317412\n",
       "DSFS                     52770   1.977152\n",
       "PrimaryConditionGroup    11410   0.427503\n",
       "ProcedureGroup            3675   0.137693"
      ]
     },
     "metadata": {},
     "output_type": "display_data"
    }
   ],
   "source": [
    "count_nulls(df)"
   ]
  },
  {
   "cell_type": "code",
   "execution_count": 24,
   "metadata": {},
   "outputs": [
    {
     "data": {
      "text/plain": [
       "<matplotlib.axes._subplots.AxesSubplot at 0x29e0096bb00>"
      ]
     },
     "execution_count": 24,
     "metadata": {},
     "output_type": "execute_result"
    },
    {
     "data": {
      "image/png": "[encoded data removed]",
      "text/plain": [
       "<Figure size 432x288 with 1 Axes>"
      ]
     },
     "metadata": {},
     "output_type": "display_data"
    }
   ],
   "source": [
    "df.groupby(['DSFS']).size().plot.bar()"
   ]
  },
  {
   "cell_type": "code",
   "execution_count": 25,
   "metadata": {},
   "outputs": [
    {
     "data": {
      "text/plain": [
       "<matplotlib.axes._subplots.AxesSubplot at 0x29e006f6780>"
      ]
     },
     "execution_count": 25,
     "metadata": {},
     "output_type": "execute_result"
    },
    {
     "data": {
      "image/png": "[encoded data removed]",
      "text/plain": [
       "<Figure size 432x288 with 1 Axes>"
      ]
     },
     "metadata": {},
     "output_type": "display_data"
    }
   ],
   "source": [
    "df.groupby(['Specialty']).size().plot.bar()"
   ]
  },
  {
   "cell_type": "code",
   "execution_count": null,
   "metadata": {},
   "outputs": [],
   "source": []
  }
 ],
 "metadata": {
  "kernelspec": {
   "display_name": "Python 3",
   "language": "python",
   "name": "python3"
  },
  "language_info": {
   "codemirror_mode": {
    "name": "ipython",
    "version": 3
   },
   "file_extension": ".py",
   "mimetype": "text/x-python",
   "name": "python",
   "nbconvert_exporter": "python",
   "pygments_lexer": "ipython3",
   "version": "3.6.5"
  }
 },
 "nbformat": 4,
 "nbformat_minor": 2
}
