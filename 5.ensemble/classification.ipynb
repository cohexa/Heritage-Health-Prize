{
 "cells": [
  {
   "cell_type": "code",
   "execution_count": 12,
   "metadata": {},
   "outputs": [],
   "source": [
    "import pandas as pd\n",
    "import numpy as np\n",
    "import matplotlib.pyplot as plt\n",
    "import sys\n",
    "from sklearn import ensemble\n",
    "from sklearn.model_selection import train_test_split\n",
    "from sklearn.model_selection import GridSearchCV\n",
    "import pandas as pd\n",
    "import math\n",
    "\n",
    "from collections import Counter\n",
    "from imblearn.pipeline import make_pipeline as make_pipeline_imb # To do our transformation in a unique time\n",
    "from imblearn.over_sampling import SMOTE\n",
    "from sklearn.pipeline import make_pipeline\n",
    "from imblearn.metrics import classification_report_imbalanced\n",
    "from sklearn import linear_model\n",
    "\n",
    "from sklearn.metrics import precision_score,recall_score, f1_score, fbeta_score, confusion_matrix, precision_recall_curve, accuracy_score\n"
   ]
  },
  {
   "cell_type": "code",
   "execution_count": 13,
   "metadata": {},
   "outputs": [
    {
     "data": {
      "text/plain": [
       "<matplotlib.axes._subplots.AxesSubplot at 0x18d0702f9e8>"
      ]
     },
     "execution_count": 13,
     "metadata": {},
     "output_type": "execute_result"
    },
    {
     "data": {
      "image/png": "[encoded data removed]",
      "text/plain": [
       "<Figure size 432x288 with 1 Axes>"
      ]
     },
     "metadata": {},
     "output_type": "display_data"
    }
   ],
   "source": [
    "data = pd.read_csv('../1.data-preparation/new-data/data_Y1.csv')\n",
    "data.loc[data['TARGET'] > 0, 'TARGET'] = 1\n",
    "data.groupby(['TARGET']).size().plot.bar()"
   ]
  },
  {
   "cell_type": "code",
   "execution_count": 14,
   "metadata": {},
   "outputs": [
    {
     "name": "stderr",
     "output_type": "stream",
     "text": [
      "C:\\Users\\duy.truong\\AppData\\Local\\Continuum\\anaconda3\\lib\\site-packages\\sklearn\\preprocessing\\data.py:625: DataConversionWarning: Data with input dtype int64, float64 were all converted to float64 by StandardScaler.\n",
      "  return self.partial_fit(X, y)\n",
      "C:\\Users\\duy.truong\\AppData\\Local\\Continuum\\anaconda3\\lib\\site-packages\\ipykernel_launcher.py:10: DataConversionWarning: Data with input dtype int64, float64 were all converted to float64 by StandardScaler.\n",
      "  # Remove the CWD from sys.path while we load stuff.\n"
     ]
    }
   ],
   "source": [
    "data.drop(\"MemberID\", axis = 1, inplace = True)\n",
    "data.drop(\"Year\", axis = 1, inplace = True)\n",
    "\n",
    "y = data['TARGET']\n",
    "X = data.loc[:, data.columns != 'TARGET']\n",
    "\n",
    "from sklearn.preprocessing import MinMaxScaler, StandardScaler\n",
    "\n",
    "scaler = StandardScaler().fit(X)\n",
    "X = scaler.transform(X)"
   ]
  },
  {
   "cell_type": "code",
   "execution_count": 15,
   "metadata": {},
   "outputs": [],
   "source": [
    "def eval(model, X_test, y_test):\n",
    "    pred_y = model.predict(X_test) # your predicted y values\n",
    "    # The root mean square logarithmic error\n",
    "    pred_y = pred_y.round(0).astype(int)\n",
    "    msle = np.mean( (np.log(pred_y + 1) - np.log(y_test + 1)) ** 2)\n",
    "    rmsle = math.sqrt(msle)\n",
    "    print (\"RMSLE: %.4f\" % rmsle)\n",
    "\n",
    "def submit(model, name):\n",
    "    data_submit = pd.read_csv('../1.data-preparation/new-data/data_Y2.csv')\n",
    "    data_submit.drop(\"MemberID\", axis = 1, inplace = True)\n",
    "    data_submit.drop(\"Year\", axis = 1, inplace = True)\n",
    "\n",
    "    y_submit = data_submit['TARGET']\n",
    "    X_submit = data_submit.loc[:, data_submit.columns != 'TARGET']\n",
    "    X_submit = scaler.transform(X_submit)\n",
    "    \n",
    "    data = pd.read_csv('../1.data-preparation/new-data/data_Y2.csv')\n",
    "    pred_y = model.predict(X_submit)\n",
    "\n",
    "    submission = pd.DataFrame()\n",
    "    submission['MemberID'] = data['MemberID']\n",
    "    submission['DaysInHospital'] = pred_y\n",
    "    submission.to_csv(name ,index=False)\n",
    "    \n",
    "def test(model):\n",
    "    data_submit = pd.read_csv('../1.data-preparation/new-data/data_Y2.csv')\n",
    "    data_submit.drop(\"MemberID\", axis = 1, inplace = True)\n",
    "    data_submit.drop(\"Year\", axis = 1, inplace = True)\n",
    "\n",
    "    y_submit = data_submit['TARGET']\n",
    "    X_submit = data_submit.loc[:, data_submit.columns != 'TARGET']\n",
    "    X_submit = scaler.transform(X_submit)\n",
    "    \n",
    "    eval(model, X_submit, y_submit)"
   ]
  },
  {
   "cell_type": "code",
   "execution_count": 16,
   "metadata": {},
   "outputs": [],
   "source": [
    "X_train, X_test, y_train, y_test = train_test_split(X, y, test_size=0.3, random_state=123)"
   ]
  },
  {
   "cell_type": "code",
   "execution_count": 17,
   "metadata": {},
   "outputs": [],
   "source": [
    "def print_results(headline, true_value, pred):\n",
    "    print(headline)\n",
    "    print(\"accuracy: {}\".format(accuracy_score(true_value, pred)))\n",
    "    print(\"precision: {}\".format(precision_score(true_value, pred)))\n",
    "    print(\"recall: {}\".format(recall_score(true_value, pred)))\n",
    "    print(\"f1: {}\".format(f1_score(true_value, pred)))"
   ]
  },
  {
   "cell_type": "code",
   "execution_count": 7,
   "metadata": {},
   "outputs": [],
   "source": [
    "# print(\"normal data distribution: {}\".format(Counter(y)))\n",
    "# X_smote, y_smote = SMOTE().fit_sample(X, y)\n",
    "\n",
    "# print(\"SMOTE data distribution: {}\".format(Counter(y_smote)))"
   ]
  },
  {
   "cell_type": "code",
   "execution_count": 26,
   "metadata": {},
   "outputs": [],
   "source": [
    "def train(name, classifier):\n",
    "    print('=============================================')\n",
    "    model = classifier.fit(X_train, y_train)\n",
    "    prediction = model.predict(X_test)\n",
    "    \n",
    "    print(\"Confusion Matrix: \")\n",
    "    print(confusion_matrix(y_test, prediction))\n",
    "\n",
    "    print('\\nPipeline Score {}'.format(model.score(X_test, y_test)))\n",
    "    eval(model,X_test, y_test)\n",
    "\n",
    "    print_results(\"\\n\" + name, y_test, prediction)\n",
    "    test(model)\n",
    "    \n",
    "def train_smote(name, classifier):\n",
    "    print('=============================================')\n",
    "    # build model with SMOTE imblearn\n",
    "    smote_pipeline = make_pipeline_imb(SMOTE(random_state=4),classifier)\n",
    "\n",
    "    smote_model = smote_pipeline.fit(X_train, y_train)\n",
    "    smote_prediction = smote_model.predict(X_test)\n",
    "    \n",
    "    print(\"Confusion Matrix: \")\n",
    "    print(confusion_matrix(y_test, smote_prediction))\n",
    "\n",
    "    print('\\nSMOTE Pipeline Score {}'.format(smote_pipeline.score(X_test, y_test)))\n",
    "    eval(smote_model,X_test, y_test)\n",
    "    \n",
    "    print_results(\"\\n\" + name, y_test, smote_prediction)\n",
    "    test(smote_model)"
   ]
  },
  {
   "cell_type": "code",
   "execution_count": 27,
   "metadata": {
    "scrolled": false
   },
   "outputs": [
    {
     "name": "stdout",
     "output_type": "stream",
     "text": [
      "=============================================\n"
     ]
    },
    {
     "name": "stderr",
     "output_type": "stream",
     "text": [
      "C:\\Users\\duy.truong\\AppData\\Local\\Continuum\\anaconda3\\lib\\site-packages\\sklearn\\linear_model\\logistic.py:433: FutureWarning: Default solver will be changed to 'lbfgs' in 0.22. Specify a solver to silence this warning.\n",
      "  FutureWarning)\n"
     ]
    },
    {
     "name": "stdout",
     "output_type": "stream",
     "text": [
      "Confusion Matrix: \n",
      "[[19103   247]\n",
      " [ 3231   231]]\n",
      "\n",
      "Pipeline Score 0.8475363843591093\n",
      "RMSLE: 0.2707\n",
      "\n",
      "LogisticRegression\n",
      "accuracy: 0.8475363843591093\n",
      "precision: 0.48326359832635984\n",
      "recall: 0.06672443674176777\n",
      "f1: 0.11725888324873096\n"
     ]
    },
    {
     "name": "stderr",
     "output_type": "stream",
     "text": [
      "C:\\Users\\duy.truong\\AppData\\Local\\Continuum\\anaconda3\\lib\\site-packages\\ipykernel_launcher.py:33: DataConversionWarning: Data with input dtype int64, float64 were all converted to float64 by StandardScaler.\n"
     ]
    },
    {
     "name": "stdout",
     "output_type": "stream",
     "text": [
      "RMSLE: 0.4940\n"
     ]
    },
    {
     "name": "stderr",
     "output_type": "stream",
     "text": [
      "C:\\Users\\duy.truong\\AppData\\Local\\Continuum\\anaconda3\\lib\\site-packages\\ipykernel_launcher.py:16: DataConversionWarning: Data with input dtype int64, float64 were all converted to float64 by StandardScaler.\n",
      "  app.launch_new_instance()\n"
     ]
    },
    {
     "name": "stdout",
     "output_type": "stream",
     "text": [
      "=============================================\n"
     ]
    },
    {
     "name": "stderr",
     "output_type": "stream",
     "text": [
      "C:\\Users\\duy.truong\\AppData\\Local\\Continuum\\anaconda3\\lib\\site-packages\\sklearn\\linear_model\\logistic.py:433: FutureWarning: Default solver will be changed to 'lbfgs' in 0.22. Specify a solver to silence this warning.\n",
      "  FutureWarning)\n"
     ]
    },
    {
     "name": "stdout",
     "output_type": "stream",
     "text": [
      "Confusion Matrix: \n",
      "[[14018  5332]\n",
      " [ 1382  2080]]\n",
      "\n",
      "SMOTE Pipeline Score 0.7056812204103103\n",
      "RMSLE: 0.3760\n",
      "\n",
      "LogisticRegression\n",
      "accuracy: 0.7056812204103103\n",
      "precision: 0.28062601187263897\n",
      "recall: 0.6008087810514153\n",
      "f1: 0.3825639139231194\n"
     ]
    },
    {
     "name": "stderr",
     "output_type": "stream",
     "text": [
      "C:\\Users\\duy.truong\\AppData\\Local\\Continuum\\anaconda3\\lib\\site-packages\\ipykernel_launcher.py:33: DataConversionWarning: Data with input dtype int64, float64 were all converted to float64 by StandardScaler.\n"
     ]
    },
    {
     "name": "stdout",
     "output_type": "stream",
     "text": [
      "RMSLE: 0.5117\n"
     ]
    },
    {
     "name": "stderr",
     "output_type": "stream",
     "text": [
      "C:\\Users\\duy.truong\\AppData\\Local\\Continuum\\anaconda3\\lib\\site-packages\\ipykernel_launcher.py:16: DataConversionWarning: Data with input dtype int64, float64 were all converted to float64 by StandardScaler.\n",
      "  app.launch_new_instance()\n"
     ]
    }
   ],
   "source": [
    "classifier = linear_model.LogisticRegression()\n",
    "train('LogisticRegression', classifier)\n",
    "submit(classifier, 'model1.csv')\n",
    "\n",
    "classifier = linear_model.LogisticRegression()\n",
    "train_smote('LogisticRegression', classifier)\n",
    "submit(classifier, 'model1.csv')"
   ]
  },
  {
   "cell_type": "code",
   "execution_count": 29,
   "metadata": {},
   "outputs": [
    {
     "name": "stdout",
     "output_type": "stream",
     "text": [
      "=============================================\n",
      "Confusion Matrix: \n",
      "[[19088   262]\n",
      " [ 3209   253]]\n",
      "\n",
      "Pipeline Score 0.8478432403997895\n",
      "RMSLE: 0.2704\n",
      "\n",
      "AdaBoostClassifier\n",
      "accuracy: 0.8478432403997895\n",
      "precision: 0.4912621359223301\n",
      "recall: 0.07307914500288851\n",
      "f1: 0.12723158159416645\n"
     ]
    },
    {
     "name": "stderr",
     "output_type": "stream",
     "text": [
      "C:\\Users\\duy.truong\\AppData\\Local\\Continuum\\anaconda3\\lib\\site-packages\\ipykernel_launcher.py:33: DataConversionWarning: Data with input dtype int64, float64 were all converted to float64 by StandardScaler.\n"
     ]
    },
    {
     "name": "stdout",
     "output_type": "stream",
     "text": [
      "RMSLE: 0.4946\n"
     ]
    },
    {
     "name": "stderr",
     "output_type": "stream",
     "text": [
      "C:\\Users\\duy.truong\\AppData\\Local\\Continuum\\anaconda3\\lib\\site-packages\\ipykernel_launcher.py:16: DataConversionWarning: Data with input dtype int64, float64 were all converted to float64 by StandardScaler.\n",
      "  app.launch_new_instance()\n"
     ]
    },
    {
     "name": "stdout",
     "output_type": "stream",
     "text": [
      "=============================================\n",
      "Confusion Matrix: \n",
      "[[17582  1768]\n",
      " [ 2588   874]]\n",
      "\n",
      "SMOTE Pipeline Score 0.8090478695423461\n",
      "RMSLE: 0.3029\n",
      "\n",
      "AdaBoostClassifier\n",
      "accuracy: 0.8090478695423461\n",
      "precision: 0.3308099924299773\n",
      "recall: 0.25245522819179667\n",
      "f1: 0.2863695937090433\n"
     ]
    },
    {
     "name": "stderr",
     "output_type": "stream",
     "text": [
      "C:\\Users\\duy.truong\\AppData\\Local\\Continuum\\anaconda3\\lib\\site-packages\\ipykernel_launcher.py:33: DataConversionWarning: Data with input dtype int64, float64 were all converted to float64 by StandardScaler.\n"
     ]
    },
    {
     "name": "stdout",
     "output_type": "stream",
     "text": [
      "RMSLE: 0.4952\n"
     ]
    },
    {
     "name": "stderr",
     "output_type": "stream",
     "text": [
      "C:\\Users\\duy.truong\\AppData\\Local\\Continuum\\anaconda3\\lib\\site-packages\\ipykernel_launcher.py:16: DataConversionWarning: Data with input dtype int64, float64 were all converted to float64 by StandardScaler.\n",
      "  app.launch_new_instance()\n"
     ]
    }
   ],
   "source": [
    "classifier = ensemble.AdaBoostClassifier()\n",
    "train('AdaBoostClassifier', classifier)\n",
    "submit(classifier, 'model2.csv')\n",
    "\n",
    "classifier = ensemble.AdaBoostClassifier()\n",
    "train_smote('AdaBoostClassifier', classifier)\n",
    "submit(classifier, 'model2.csv')\n",
    "# train_smote('LogisticRegression', classifier)"
   ]
  },
  {
   "cell_type": "code",
   "execution_count": 20,
   "metadata": {},
   "outputs": [
    {
     "name": "stdout",
     "output_type": "stream",
     "text": [
      "=============================================\n",
      "Confusion Matrix: \n",
      "[[19133   217]\n",
      " [ 3177   285]]\n",
      "\n",
      "Pipeline Score 0.8512186568472734\n",
      "\n",
      "GradientBoostingClassifier\n",
      "accuracy: 0.8512186568472734\n",
      "precision: 0.5677290836653387\n",
      "recall: 0.08232235701906412\n",
      "f1: 0.1437941473259334\n"
     ]
    },
    {
     "name": "stderr",
     "output_type": "stream",
     "text": [
      "C:\\Users\\duy.truong\\AppData\\Local\\Continuum\\anaconda3\\lib\\site-packages\\ipykernel_launcher.py:33: DataConversionWarning: Data with input dtype int64, float64 were all converted to float64 by StandardScaler.\n"
     ]
    },
    {
     "name": "stdout",
     "output_type": "stream",
     "text": [
      "RMSLE: 0.4918\n"
     ]
    },
    {
     "name": "stderr",
     "output_type": "stream",
     "text": [
      "C:\\Users\\duy.truong\\AppData\\Local\\Continuum\\anaconda3\\lib\\site-packages\\ipykernel_launcher.py:16: DataConversionWarning: Data with input dtype int64, float64 were all converted to float64 by StandardScaler.\n",
      "  app.launch_new_instance()\n"
     ]
    },
    {
     "name": "stdout",
     "output_type": "stream",
     "text": [
      "=============================================\n",
      "Confusion Matrix: \n",
      "[[19139   211]\n",
      " [ 3174   288]]\n",
      "\n",
      "SMOTE Pipeline Score 0.8516131860424339\n",
      "\n",
      "GradientBoostingClassifier\n",
      "accuracy: 0.8516131860424339\n",
      "precision: 0.5771543086172345\n",
      "recall: 0.0831889081455806\n",
      "f1: 0.1454178237818733\n"
     ]
    },
    {
     "name": "stderr",
     "output_type": "stream",
     "text": [
      "C:\\Users\\duy.truong\\AppData\\Local\\Continuum\\anaconda3\\lib\\site-packages\\ipykernel_launcher.py:33: DataConversionWarning: Data with input dtype int64, float64 were all converted to float64 by StandardScaler.\n"
     ]
    },
    {
     "name": "stdout",
     "output_type": "stream",
     "text": [
      "RMSLE: 0.4930\n"
     ]
    },
    {
     "name": "stderr",
     "output_type": "stream",
     "text": [
      "C:\\Users\\duy.truong\\AppData\\Local\\Continuum\\anaconda3\\lib\\site-packages\\ipykernel_launcher.py:16: DataConversionWarning: Data with input dtype int64, float64 were all converted to float64 by StandardScaler.\n",
      "  app.launch_new_instance()\n"
     ]
    }
   ],
   "source": [
    "classifier = ensemble.GradientBoostingClassifier(n_estimators = 200, max_depth=4)\n",
    "train('GradientBoostingClassifier', classifier)\n",
    "submit(classifier, 'model3.csv')\n",
    "\n",
    "classifier = ensemble.GradientBoostingClassifier(n_estimators = 200, max_depth=4)\n",
    "train_smote('GradientBoostingClassifier', classifier)\n",
    "submit(classifier, 'model3.csv')"
   ]
  },
  {
   "cell_type": "code",
   "execution_count": 85,
   "metadata": {
    "scrolled": true
   },
   "outputs": [
    {
     "name": "stdout",
     "output_type": "stream",
     "text": [
      "=============================================\n",
      "Confusion Matrix: \n",
      "[[19252    98]\n",
      " [ 3319   143]]\n",
      "\n",
      "Pipeline Score 0.8502104155707523\n",
      "\n",
      "RandomForestClassifier\n",
      "accuracy: 0.8502104155707523\n",
      "precision: 0.8529529041690666\n",
      "recall: 0.9949354005167959\n",
      "f1: 0.9184895398487631\n"
     ]
    },
    {
     "name": "stderr",
     "output_type": "stream",
     "text": [
      "C:\\Users\\duy.truong\\AppData\\Local\\Continuum\\anaconda3\\lib\\site-packages\\ipykernel_launcher.py:32: DataConversionWarning: Data with input dtype int64, float64 were all converted to float64 by StandardScaler.\n"
     ]
    },
    {
     "name": "stdout",
     "output_type": "stream",
     "text": [
      "RMSLE: 0.4974\n"
     ]
    },
    {
     "name": "stderr",
     "output_type": "stream",
     "text": [
      "C:\\Users\\duy.truong\\AppData\\Local\\Continuum\\anaconda3\\lib\\site-packages\\ipykernel_launcher.py:16: DataConversionWarning: Data with input dtype int64, float64 were all converted to float64 by StandardScaler.\n",
      "  app.launch_new_instance()\n"
     ]
    }
   ],
   "source": [
    "classifier = ensemble.RandomForestClassifier(n_estimators = 200)\n",
    "train('RandomForestClassifier', classifier)\n",
    "submit(classifier, 'model4.csv')\n",
    "\n",
    "# train_smote('RandomForestClassifier', classifier)"
   ]
  },
  {
   "cell_type": "code",
   "execution_count": 30,
   "metadata": {},
   "outputs": [
    {
     "name": "stdout",
     "output_type": "stream",
     "text": [
      "=============================================\n",
      "Confusion Matrix: \n",
      "[[18952   398]\n",
      " [ 3118   344]]\n",
      "\n",
      "Pipeline Score 0.8458705944239874\n",
      "RMSLE: 0.2721\n",
      "\n",
      "MLPClassifier\n",
      "accuracy: 0.8458705944239874\n",
      "precision: 0.4636118598382749\n",
      "recall: 0.09936452917388792\n",
      "f1: 0.16365366317792576\n"
     ]
    },
    {
     "name": "stderr",
     "output_type": "stream",
     "text": [
      "C:\\Users\\duy.truong\\AppData\\Local\\Continuum\\anaconda3\\lib\\site-packages\\ipykernel_launcher.py:33: DataConversionWarning: Data with input dtype int64, float64 were all converted to float64 by StandardScaler.\n"
     ]
    },
    {
     "name": "stdout",
     "output_type": "stream",
     "text": [
      "RMSLE: 0.4925\n"
     ]
    },
    {
     "name": "stderr",
     "output_type": "stream",
     "text": [
      "C:\\Users\\duy.truong\\AppData\\Local\\Continuum\\anaconda3\\lib\\site-packages\\ipykernel_launcher.py:16: DataConversionWarning: Data with input dtype int64, float64 were all converted to float64 by StandardScaler.\n",
      "  app.launch_new_instance()\n"
     ]
    },
    {
     "name": "stdout",
     "output_type": "stream",
     "text": [
      "=============================================\n",
      "Confusion Matrix: \n",
      "[[13446  5904]\n",
      " [ 1451  2011]]\n",
      "\n",
      "SMOTE Pipeline Score 0.6775819743994389\n",
      "RMSLE: 0.3936\n",
      "\n",
      "MLPClassifier\n",
      "accuracy: 0.6775819743994389\n",
      "precision: 0.25407454200884394\n",
      "recall: 0.5808781051415367\n",
      "f1: 0.3535202601740353\n"
     ]
    },
    {
     "name": "stderr",
     "output_type": "stream",
     "text": [
      "C:\\Users\\duy.truong\\AppData\\Local\\Continuum\\anaconda3\\lib\\site-packages\\ipykernel_launcher.py:33: DataConversionWarning: Data with input dtype int64, float64 were all converted to float64 by StandardScaler.\n"
     ]
    },
    {
     "name": "stdout",
     "output_type": "stream",
     "text": [
      "RMSLE: 0.5241\n"
     ]
    },
    {
     "name": "stderr",
     "output_type": "stream",
     "text": [
      "C:\\Users\\duy.truong\\AppData\\Local\\Continuum\\anaconda3\\lib\\site-packages\\ipykernel_launcher.py:16: DataConversionWarning: Data with input dtype int64, float64 were all converted to float64 by StandardScaler.\n",
      "  app.launch_new_instance()\n"
     ]
    }
   ],
   "source": [
    "from sklearn import neural_network\n",
    "classifier = neural_network.MLPClassifier(hidden_layer_sizes = (5,3))\n",
    "train('MLPClassifier', classifier)\n",
    "submit(classifier, 'model5.csv')\n",
    "\n",
    "classifier = neural_network.MLPClassifier(hidden_layer_sizes = (5,3))\n",
    "train_smote('MLPClassifier', classifier)\n",
    "submit(classifier, 'model5.csv')\n"
   ]
  },
  {
   "cell_type": "code",
   "execution_count": null,
   "metadata": {},
   "outputs": [
    {
     "name": "stdout",
     "output_type": "stream",
     "text": [
      "=============================================\n"
     ]
    },
    {
     "name": "stderr",
     "output_type": "stream",
     "text": [
      "C:\\Users\\duy.truong\\AppData\\Local\\Continuum\\anaconda3\\lib\\site-packages\\sklearn\\svm\\base.py:196: FutureWarning: The default value of gamma will change from 'auto' to 'scale' in version 0.22 to account better for unscaled features. Set gamma explicitly to 'auto' or 'scale' to avoid this warning.\n",
      "  \"avoid this warning.\", FutureWarning)\n"
     ]
    }
   ],
   "source": [
    "from sklearn import svm\n",
    "classifier = svm.SVC()\n",
    "train('SVC', classifier)\n",
    "# submit(classifier, 'model5.csv')"
   ]
  },
  {
   "cell_type": "code",
   "execution_count": null,
   "metadata": {},
   "outputs": [
    {
     "name": "stdout",
     "output_type": "stream",
     "text": [
      "=============================================\n"
     ]
    }
   ],
   "source": [
    "from sklearn import neighbors\n",
    "classifier = neighbors.KNeighborsClassifier()\n",
    "train('KNeighborsClassifier', classifier)"
   ]
  },
  {
   "cell_type": "code",
   "execution_count": 87,
   "metadata": {},
   "outputs": [
    {
     "name": "stderr",
     "output_type": "stream",
     "text": [
      "C:\\Users\\duy.truong\\AppData\\Local\\Continuum\\anaconda3\\lib\\site-packages\\sklearn\\linear_model\\logistic.py:433: FutureWarning: Default solver will be changed to 'lbfgs' in 0.22. Specify a solver to silence this warning.\n",
      "  FutureWarning)\n"
     ]
    }
   ],
   "source": [
    "classifier1 = linear_model.LogisticRegression()\n",
    "classifier2 = ensemble.AdaBoostClassifier(n_estimators=250)\n",
    "classifier3 = ensemble.GradientBoostingClassifier(n_estimators = 250)\n",
    "classifier4 = ensemble.RandomForestClassifier(n_estimators = 250)\n",
    "classifier5 = neural_network.MLPClassifier(hidden_layer_sizes = (5,3))\n",
    "classifier6 = ensemble.BaggingClassifier(n_estimators = 250)\n",
    "classifier7 = linear_model.RidgeClassifier(max_ilter=1000)\n",
    "# classifier8 = svm.SVC()\n",
    "classifier9 = neighbors.KNeighborsClassifier()\n",
    "\n",
    "# model1 = classifier1.fit(X_train, y_train)\n",
    "# model2 = classifier2.fit(X_train, y_train)\n",
    "# model3 = classifier3.fit(X_train, y_train)\n",
    "# model4 = classifier4.fit(X_train, y_train)\n",
    "# model5 = classifier5.fit(X_train, y_train)\n",
    "\n",
    "# prediction1 = model1.predict(X_test)\n",
    "# prediction2 = model2.predict(X_test)\n",
    "# prediction3 = model3.predict(X_test)\n",
    "# prediction4 = model4.predict(X_test)\n",
    "# prediction5 = model5.predict(X_test)"
   ]
  },
  {
   "cell_type": "code",
   "execution_count": 97,
   "metadata": {},
   "outputs": [
    {
     "name": "stdout",
     "output_type": "stream",
     "text": [
      "=============================================\n"
     ]
    },
    {
     "name": "stderr",
     "output_type": "stream",
     "text": [
      "C:\\Users\\duy.truong\\AppData\\Local\\Continuum\\anaconda3\\lib\\site-packages\\sklearn\\linear_model\\logistic.py:433: FutureWarning: Default solver will be changed to 'lbfgs' in 0.22. Specify a solver to silence this warning.\n",
      "  FutureWarning)\n"
     ]
    },
    {
     "name": "stdout",
     "output_type": "stream",
     "text": [
      "Confusion Matrix: \n",
      "[[19232   118]\n",
      " [ 3282   180]]\n",
      "\n",
      "Pipeline Score 0.8509556373838331\n",
      "\n",
      "VotingClassifier\n",
      "accuracy: 0.8509556373838331\n",
      "precision: 0.8542240383761215\n",
      "recall: 0.9939018087855297\n",
      "f1: 0.9187846359640741\n"
     ]
    },
    {
     "name": "stderr",
     "output_type": "stream",
     "text": [
      "C:\\Users\\duy.truong\\AppData\\Local\\Continuum\\anaconda3\\lib\\site-packages\\ipykernel_launcher.py:32: DataConversionWarning: Data with input dtype int64, float64 were all converted to float64 by StandardScaler.\n"
     ]
    },
    {
     "name": "stdout",
     "output_type": "stream",
     "text": [
      "RMSLE: 0.4953\n"
     ]
    }
   ],
   "source": [
    "from sklearn.ensemble import VotingClassifier\n",
    "\n",
    "model = VotingClassifier(estimators=[('1', classifier1),\n",
    "                                     ('2', classifier2),\n",
    "                                     ('3', classifier3),\n",
    "                                     ('4', classifier4),\n",
    "                                     ('5', classifier5),\n",
    "                                     ('6', classifier6),\n",
    "                                     ('7', classifier7),\n",
    "#                                      ('8', classifier8),\n",
    "                                     ('9', classifier9),\n",
    "                                    ], voting='soft')\n",
    "train('VotingClassifier', model)"
   ]
  },
  {
   "cell_type": "code",
   "execution_count": null,
   "metadata": {},
   "outputs": [],
   "source": []
  }
 ],
 "metadata": {
  "kernelspec": {
   "display_name": "Python 3",
   "language": "python",
   "name": "python3"
  },
  "language_info": {
   "codemirror_mode": {
    "name": "ipython",
    "version": 3
   },
   "file_extension": ".py",
   "mimetype": "text/x-python",
   "name": "python",
   "nbconvert_exporter": "python",
   "pygments_lexer": "ipython3",
   "version": "3.6.5"
  }
 },
 "nbformat": 4,
 "nbformat_minor": 2
}
