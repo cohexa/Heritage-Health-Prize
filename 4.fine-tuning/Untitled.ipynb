{
 "cells": [
  {
   "cell_type": "code",
   "execution_count": 6,
   "metadata": {},
   "outputs": [],
   "source": [
    "from sys import argv\n",
    "import os.path\n",
    "import numpy as np\n",
    "import pandas as pd\n",
    "\n",
    "df = pd.read_csv('../data/DaysInHospital_Y3.csv')\n",
    "df['DaysInHospital'] = df['DaysInHospital'].astype(float)\n",
    "df['DaysInHospital'].values[:] = 0.2"
   ]
  },
  {
   "cell_type": "code",
   "execution_count": 8,
   "metadata": {},
   "outputs": [
    {
     "data": {
      "text/plain": [
       "<bound method NDFrame.head of        MemberID  ClaimsTruncated  DaysInHospital\n",
       "0      90963501                0             0.2\n",
       "1      85160905                0             0.2\n",
       "2      45496648                0             0.2\n",
       "3      45162557                0             0.2\n",
       "4      68793937                0             0.2\n",
       "5      25044772                0             0.2\n",
       "6      22343526                0             0.2\n",
       "7      54151747                1             0.2\n",
       "8      69170663                0             0.2\n",
       "9      89596832                0             0.2\n",
       "10     32810258                0             0.2\n",
       "11     94575192                0             0.2\n",
       "12     25798338                0             0.2\n",
       "13     86426760                0             0.2\n",
       "14     98975110                0             0.2\n",
       "15     54158937                0             0.2\n",
       "16     55607340                0             0.2\n",
       "17     71274817                0             0.2\n",
       "18     80418881                0             0.2\n",
       "19     98928951                0             0.2\n",
       "20     70958969                0             0.2\n",
       "21     99870961                0             0.2\n",
       "22     33779937                0             0.2\n",
       "23     22906509                0             0.2\n",
       "24     63104428                0             0.2\n",
       "25     77303730                0             0.2\n",
       "26     18741941                0             0.2\n",
       "27     77734065                0             0.2\n",
       "28     81173399                0             0.2\n",
       "29     91489237                0             0.2\n",
       "...         ...              ...             ...\n",
       "71405  76567929                0             0.2\n",
       "71406  27193763                0             0.2\n",
       "71407  74088603                1             0.2\n",
       "71408  62305833                0             0.2\n",
       "71409  17877046                0             0.2\n",
       "71410  69803546                0             0.2\n",
       "71411  98149284                0             0.2\n",
       "71412  45870132                0             0.2\n",
       "71413  54091423                0             0.2\n",
       "71414  16868231                0             0.2\n",
       "71415  78431685                0             0.2\n",
       "71416  13767337                0             0.2\n",
       "71417   9236072                0             0.2\n",
       "71418  15158412                0             0.2\n",
       "71419   3150006                0             0.2\n",
       "71420     74949                0             0.2\n",
       "71421  64072738                0             0.2\n",
       "71422  21662174                0             0.2\n",
       "71423  88661938                0             0.2\n",
       "71424  45457585                0             0.2\n",
       "71425   8696061                0             0.2\n",
       "71426  62101938                1             0.2\n",
       "71427  48028509                0             0.2\n",
       "71428  73578842                0             0.2\n",
       "71429  33403937                0             0.2\n",
       "71430    206785                0             0.2\n",
       "71431  93465383                0             0.2\n",
       "71432  57466586                0             0.2\n",
       "71433  57283229                0             0.2\n",
       "71434  29819036                0             0.2\n",
       "\n",
       "[71435 rows x 3 columns]>"
      ]
     },
     "execution_count": 8,
     "metadata": {},
     "output_type": "execute_result"
    }
   ],
   "source": [
    "df.head"
   ]
  },
  {
   "cell_type": "code",
   "execution_count": 9,
   "metadata": {},
   "outputs": [],
   "source": [
    "df.to_csv('new.csv')"
   ]
  },
  {
   "cell_type": "code",
   "execution_count": null,
   "metadata": {},
   "outputs": [],
   "source": []
  }
 ],
 "metadata": {
  "kernelspec": {
   "display_name": "Python 3",
   "language": "python",
   "name": "python3"
  },
  "language_info": {
   "codemirror_mode": {
    "name": "ipython",
    "version": 3
   },
   "file_extension": ".py",
   "mimetype": "text/x-python",
   "name": "python",
   "nbconvert_exporter": "python",
   "pygments_lexer": "ipython3",
   "version": "3.6.5"
  }
 },
 "nbformat": 4,
 "nbformat_minor": 2
}
